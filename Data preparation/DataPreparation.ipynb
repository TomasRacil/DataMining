{
 "cells": [
  {
   "cell_type": "code",
   "execution_count": 3,
   "metadata": {},
   "outputs": [
    {
     "name": "stdout",
     "output_type": "stream",
     "text": [
      "     R    P    V    N\n",
      "0  4.0  8.2  6.3  2.1\n",
      "1  3.2  9.0  NaN  3.0\n",
      "2  NaN  8.1  6.3  2.4\n",
      "3  2.7  6.3  5.2  1.9\n",
      "[['R', 'P', 'V', 'N\\n'], ['4.0', '8.2', '6.3', '2.1\\n'], ['3.2', '9', '', '3.0\\n'], ['', '8.1', '6.3', '2.4\\n'], ['2.7', '6.3', '5.2', '1.9']]\n"
     ]
    }
   ],
   "source": [
    "import pandas as pd\n",
    "df = pd.read_csv('teploty.csv')\n",
    "df1= [[item for item in line.split(\",\")]for line in open('teploty.csv','r')]\n",
    "print(df)\n",
    "print(df1)"
   ]
  },
  {
   "cell_type": "code",
   "execution_count": 4,
   "metadata": {},
   "outputs": [
    {
     "data": {
      "text/plain": [
       "array([[4. , 8.2, 6.3, 2.1],\n",
       "       [3.2, 9. , nan, 3. ],\n",
       "       [nan, 8.1, 6.3, 2.4],\n",
       "       [2.7, 6.3, 5.2, 1.9]])"
      ]
     },
     "execution_count": 4,
     "metadata": {},
     "output_type": "execute_result"
    }
   ],
   "source": [
    "df.values # alternativní zobrazení jako NumPy array"
   ]
  },
  {
   "cell_type": "code",
   "execution_count": 8,
   "metadata": {},
   "outputs": [
    {
     "data": {
      "text/plain": [
       "0    0\n",
       "1    1\n",
       "2    1\n",
       "3    0\n",
       "dtype: int64"
      ]
     },
     "execution_count": 8,
     "metadata": {},
     "output_type": "execute_result"
    }
   ],
   "source": [
    "df.isnull().sum(axis=1)"
   ]
  },
  {
   "cell_type": "code",
   "execution_count": 4,
   "metadata": {},
   "outputs": [
    {
     "name": "stdout",
     "output_type": "stream",
     "text": [
      "     R    P    V    N\n",
      "0  4.0  8.2  6.3  2.1\n",
      "3  2.7  6.3  5.2  1.9\n"
     ]
    }
   ],
   "source": [
    "print(df.dropna())"
   ]
  },
  {
   "cell_type": "code",
   "execution_count": 5,
   "metadata": {},
   "outputs": [
    {
     "name": "stdout",
     "output_type": "stream",
     "text": [
      "     P    N\n",
      "0  8.2  2.1\n",
      "1  9.0  3.0\n",
      "2  8.1  2.4\n",
      "3  6.3  1.9\n"
     ]
    }
   ],
   "source": [
    "print(df.dropna(axis=1))"
   ]
  },
  {
   "cell_type": "code",
   "execution_count": 6,
   "metadata": {},
   "outputs": [
    {
     "data": {
      "text/html": [
       "<div>\n",
       "<style scoped>\n",
       "    .dataframe tbody tr th:only-of-type {\n",
       "        vertical-align: middle;\n",
       "    }\n",
       "\n",
       "    .dataframe tbody tr th {\n",
       "        vertical-align: top;\n",
       "    }\n",
       "\n",
       "    .dataframe thead th {\n",
       "        text-align: right;\n",
       "    }\n",
       "</style>\n",
       "<table border=\"1\" class=\"dataframe\">\n",
       "  <thead>\n",
       "    <tr style=\"text-align: right;\">\n",
       "      <th></th>\n",
       "      <th>R</th>\n",
       "      <th>P</th>\n",
       "      <th>V</th>\n",
       "      <th>N</th>\n",
       "    </tr>\n",
       "  </thead>\n",
       "  <tbody>\n",
       "    <tr>\n",
       "      <th>0</th>\n",
       "      <td>4.0</td>\n",
       "      <td>8.2</td>\n",
       "      <td>6.3</td>\n",
       "      <td>2.1</td>\n",
       "    </tr>\n",
       "    <tr>\n",
       "      <th>2</th>\n",
       "      <td>NaN</td>\n",
       "      <td>8.1</td>\n",
       "      <td>6.3</td>\n",
       "      <td>2.4</td>\n",
       "    </tr>\n",
       "    <tr>\n",
       "      <th>3</th>\n",
       "      <td>2.7</td>\n",
       "      <td>6.3</td>\n",
       "      <td>5.2</td>\n",
       "      <td>1.9</td>\n",
       "    </tr>\n",
       "  </tbody>\n",
       "</table>\n",
       "</div>"
      ],
      "text/plain": [
       "     R    P    V    N\n",
       "0  4.0  8.2  6.3  2.1\n",
       "2  NaN  8.1  6.3  2.4\n",
       "3  2.7  6.3  5.2  1.9"
      ]
     },
     "execution_count": 6,
     "metadata": {},
     "output_type": "execute_result"
    }
   ],
   "source": [
    "df.dropna(subset=['V'])\n",
    "# df.dropna(how='all')\n",
    "# df.dropna(inplace=True)"
   ]
  },
  {
   "cell_type": "code",
   "execution_count": 14,
   "metadata": {},
   "outputs": [],
   "source": [
    "from sklearn.impute import SimpleImputer\n",
    "import numpy as np"
   ]
  },
  {
   "cell_type": "code",
   "execution_count": 17,
   "metadata": {},
   "outputs": [
    {
     "data": {
      "text/plain": [
       "array([[4.   , 8.2  , 6.3  , 2.1  ],\n",
       "       [3.2  , 9.   , 5.933, 3.   ],\n",
       "       [3.3  , 8.1  , 6.3  , 2.4  ],\n",
       "       [2.7  , 6.3  , 5.2  , 1.9  ]])"
      ]
     },
     "execution_count": 17,
     "metadata": {},
     "output_type": "execute_result"
    }
   ],
   "source": [
    "imputer = SimpleImputer(missing_values=np.nan, strategy='mean')\n",
    "imputer = imputer.fit(df)\n",
    "data = imputer.transform(df.values)\n",
    "data.round(2)"
   ]
  },
  {
   "cell_type": "code",
   "execution_count": 24,
   "metadata": {},
   "outputs": [
    {
     "name": "stdout",
     "output_type": "stream",
     "text": [
      "    0  1   2   3   4   5  6   7  8   9\n",
      "U  34  3  64  87  17  17  1  79  4  99\n",
      "V   8  1  -7   9   5  -3 -1   8 -3  -7\n"
     ]
    }
   ],
   "source": [
    "np.random.seed(24)\n",
    "df = pd.DataFrame({\n",
    "'U': np.random.randint(0, 100, 10),\n",
    "'V': np.random.randint(-10, 10, 10)\n",
    "})\n",
    "print(df.T)"
   ]
  },
  {
   "cell_type": "code",
   "execution_count": 26,
   "metadata": {},
   "outputs": [
    {
     "name": "stdout",
     "output_type": "stream",
     "text": [
      "[[0.3 0.  0.6 0.9 0.2 0.2 0.  0.8 0.  1. ]\n",
      " [0.9 0.5 0.  1.  0.8 0.2 0.4 0.9 0.2 0. ]]\n"
     ]
    }
   ],
   "source": [
    "from sklearn.preprocessing import MinMaxScaler\n",
    "mm_scaler = MinMaxScaler(feature_range=(0, 1))\n",
    "df_scaled = mm_scaler.fit_transform(df)\n",
    "print(df_scaled.round(1).T)"
   ]
  },
  {
   "cell_type": "code",
   "execution_count": 27,
   "metadata": {},
   "outputs": [
    {
     "name": "stdout",
     "output_type": "stream",
     "text": [
      "[[0.34 0.02 0.64 0.88 0.16 0.16 0.   0.8  0.03 1.  ]\n",
      " [0.94 0.5  0.   1.   0.75 0.25 0.38 0.94 0.25 0.  ]]\n"
     ]
    }
   ],
   "source": [
    "mm_normalizer = MinMaxScaler()\n",
    "df_normalized = mm_normalizer.fit_transform(df)\n",
    "print(df_normalized.round(2).T)"
   ]
  }
 ],
 "metadata": {
  "interpreter": {
   "hash": "e49ad1be67d84e8c05f1355bfb4687abe6018e3beac2c9859fbf3b6d3966e0f5"
  },
  "kernelspec": {
   "display_name": "Python 3.9.7 ('base')",
   "language": "python",
   "name": "python3"
  },
  "language_info": {
   "codemirror_mode": {
    "name": "ipython",
    "version": 3
   },
   "file_extension": ".py",
   "mimetype": "text/x-python",
   "name": "python",
   "nbconvert_exporter": "python",
   "pygments_lexer": "ipython3",
   "version": "3.9.7"
  },
  "orig_nbformat": 4
 },
 "nbformat": 4,
 "nbformat_minor": 2
}
