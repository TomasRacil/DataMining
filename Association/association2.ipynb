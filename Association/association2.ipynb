{
 "cells": [
  {
   "cell_type": "code",
   "execution_count": 17,
   "metadata": {},
   "outputs": [],
   "source": [
    "import pandas as pd\n",
    "import numpy as np"
   ]
  },
  {
   "cell_type": "code",
   "execution_count": 12,
   "metadata": {},
   "outputs": [],
   "source": [
    "df= pd.read_csv(\"Groceries_dataset.csv\")"
   ]
  },
  {
   "cell_type": "code",
   "execution_count": 13,
   "metadata": {},
   "outputs": [
    {
     "data": {
      "text/html": [
       "<div>\n",
       "<style scoped>\n",
       "    .dataframe tbody tr th:only-of-type {\n",
       "        vertical-align: middle;\n",
       "    }\n",
       "\n",
       "    .dataframe tbody tr th {\n",
       "        vertical-align: top;\n",
       "    }\n",
       "\n",
       "    .dataframe thead th {\n",
       "        text-align: right;\n",
       "    }\n",
       "</style>\n",
       "<table border=\"1\" class=\"dataframe\">\n",
       "  <thead>\n",
       "    <tr style=\"text-align: right;\">\n",
       "      <th></th>\n",
       "      <th>Member_number</th>\n",
       "      <th>itemDescription</th>\n",
       "    </tr>\n",
       "    <tr>\n",
       "      <th>Date</th>\n",
       "      <th></th>\n",
       "      <th></th>\n",
       "    </tr>\n",
       "  </thead>\n",
       "  <tbody>\n",
       "    <tr>\n",
       "      <th>21-07-2015</th>\n",
       "      <td>1808</td>\n",
       "      <td>tropical fruit</td>\n",
       "    </tr>\n",
       "    <tr>\n",
       "      <th>05-01-2015</th>\n",
       "      <td>2552</td>\n",
       "      <td>whole milk</td>\n",
       "    </tr>\n",
       "    <tr>\n",
       "      <th>19-09-2015</th>\n",
       "      <td>2300</td>\n",
       "      <td>pip fruit</td>\n",
       "    </tr>\n",
       "    <tr>\n",
       "      <th>12-12-2015</th>\n",
       "      <td>1187</td>\n",
       "      <td>other vegetables</td>\n",
       "    </tr>\n",
       "    <tr>\n",
       "      <th>01-02-2015</th>\n",
       "      <td>3037</td>\n",
       "      <td>whole milk</td>\n",
       "    </tr>\n",
       "    <tr>\n",
       "      <th>...</th>\n",
       "      <td>...</td>\n",
       "      <td>...</td>\n",
       "    </tr>\n",
       "    <tr>\n",
       "      <th>08-10-2014</th>\n",
       "      <td>4471</td>\n",
       "      <td>sliced cheese</td>\n",
       "    </tr>\n",
       "    <tr>\n",
       "      <th>23-02-2014</th>\n",
       "      <td>2022</td>\n",
       "      <td>candy</td>\n",
       "    </tr>\n",
       "    <tr>\n",
       "      <th>16-04-2014</th>\n",
       "      <td>1097</td>\n",
       "      <td>cake bar</td>\n",
       "    </tr>\n",
       "    <tr>\n",
       "      <th>03-12-2014</th>\n",
       "      <td>1510</td>\n",
       "      <td>fruit/vegetable juice</td>\n",
       "    </tr>\n",
       "    <tr>\n",
       "      <th>26-12-2014</th>\n",
       "      <td>1521</td>\n",
       "      <td>cat food</td>\n",
       "    </tr>\n",
       "  </tbody>\n",
       "</table>\n",
       "<p>38765 rows × 2 columns</p>\n",
       "</div>"
      ],
      "text/plain": [
       "            Member_number        itemDescription\n",
       "Date                                            \n",
       "21-07-2015           1808         tropical fruit\n",
       "05-01-2015           2552             whole milk\n",
       "19-09-2015           2300              pip fruit\n",
       "12-12-2015           1187       other vegetables\n",
       "01-02-2015           3037             whole milk\n",
       "...                   ...                    ...\n",
       "08-10-2014           4471          sliced cheese\n",
       "23-02-2014           2022                  candy\n",
       "16-04-2014           1097               cake bar\n",
       "03-12-2014           1510  fruit/vegetable juice\n",
       "26-12-2014           1521               cat food\n",
       "\n",
       "[38765 rows x 2 columns]"
      ]
     },
     "execution_count": 13,
     "metadata": {},
     "output_type": "execute_result"
    }
   ],
   "source": [
    "d=df.set_index(['Date'])\n",
    "d"
   ]
  },
  {
   "cell_type": "code",
   "execution_count": 14,
   "metadata": {},
   "outputs": [],
   "source": [
    "d.index=pd.to_datetime(d.index)"
   ]
  },
  {
   "cell_type": "code",
   "execution_count": 22,
   "metadata": {},
   "outputs": [
    {
     "name": "stdout",
     "output_type": "stream",
     "text": [
      "There are 167 unique items sold \n",
      "Total 38765 items sold in 728 days throughout 2 years\n",
      "With an average of 53.24862637362637 items sold daily\n",
      "Avarega items per customer per day 0.01366049932622534\n"
     ]
    }
   ],
   "source": [
    "total_items = len(d)\n",
    "total_days = len(np.unique(d.index.date))\n",
    "total_months = len(np.unique(d.index.month))\n",
    "total_years = len(np.unique(d.index.year))\n",
    "average_items = total_items / total_days\n",
    "unique_items = d.itemDescription.unique().size\n",
    "average_items_customer= average_items/d.Member_number.unique().size*total_days\n",
    "\n",
    "print(f\"There are {unique_items} unique items sold \")\n",
    "print(\"Total {} items sold in {} days throughout {} years\".format(total_items, total_days, total_years))\n",
    "print(\"With an average of {} items sold daily\".format(average_items))\n",
    "print(f\"Avarega items per customer per day {average_items_customer}\")"
   ]
  },
  {
   "cell_type": "code",
   "execution_count": 18,
   "metadata": {},
   "outputs": [
    {
     "data": {
      "text/plain": [
       "array(['Instant food products', 'UHT-milk', 'abrasive cleaner',\n",
       "       'artif. sweetener', 'baby cosmetics', 'bags', 'baking powder',\n",
       "       'bathroom cleaner', 'beef', 'berries', 'beverages', 'bottled beer',\n",
       "       'bottled water', 'brandy', 'brown bread', 'butter', 'butter milk',\n",
       "       'cake bar', 'candles', 'candy', 'canned beer', 'canned fish',\n",
       "       'canned fruit', 'canned vegetables', 'cat food', 'cereals',\n",
       "       'chewing gum', 'chicken', 'chocolate', 'chocolate marshmallow',\n",
       "       'citrus fruit', 'cleaner', 'cling film/bags', 'cocoa drinks',\n",
       "       'coffee', 'condensed milk', 'cooking chocolate', 'cookware',\n",
       "       'cream', 'cream cheese ', 'curd', 'curd cheese', 'decalcifier',\n",
       "       'dental care', 'dessert', 'detergent', 'dish cleaner', 'dishes',\n",
       "       'dog food', 'domestic eggs', 'female sanitary products',\n",
       "       'finished products', 'fish', 'flour', 'flower (seeds)',\n",
       "       'flower soil/fertilizer', 'frankfurter', 'frozen chicken',\n",
       "       'frozen dessert', 'frozen fish', 'frozen fruits', 'frozen meals',\n",
       "       'frozen potato products', 'frozen vegetables',\n",
       "       'fruit/vegetable juice', 'grapes', 'hair spray', 'ham',\n",
       "       'hamburger meat', 'hard cheese', 'herbs', 'honey',\n",
       "       'house keeping products', 'hygiene articles', 'ice cream',\n",
       "       'instant coffee', 'jam', 'ketchup', 'kitchen towels',\n",
       "       'kitchen utensil', 'light bulbs', 'liqueur', 'liquor',\n",
       "       'liquor (appetizer)', 'liver loaf', 'long life bakery product',\n",
       "       'make up remover', 'male cosmetics', 'margarine', 'mayonnaise',\n",
       "       'meat', 'meat spreads', 'misc. beverages', 'mustard', 'napkins',\n",
       "       'newspapers', 'nut snack', 'nuts/prunes', 'oil', 'onions',\n",
       "       'organic products', 'organic sausage', 'other vegetables',\n",
       "       'packaged fruit/vegetables', 'pasta', 'pastry', 'pet care',\n",
       "       'photo/film', 'pickled vegetables', 'pip fruit', 'popcorn', 'pork',\n",
       "       'pot plants', 'potato products', 'preservation products',\n",
       "       'processed cheese', 'prosecco', 'pudding powder', 'ready soups',\n",
       "       'red/blush wine', 'rice', 'roll products ', 'rolls/buns',\n",
       "       'root vegetables', 'rubbing alcohol', 'rum', 'salad dressing',\n",
       "       'salt', 'salty snack', 'sauces', 'sausage', 'seasonal products',\n",
       "       'semi-finished bread', 'shopping bags', 'skin care',\n",
       "       'sliced cheese', 'snack products', 'soap', 'soda', 'soft cheese',\n",
       "       'softener', 'soups', 'sparkling wine', 'specialty bar',\n",
       "       'specialty cheese', 'specialty chocolate', 'specialty fat',\n",
       "       'specialty vegetables', 'spices', 'spread cheese', 'sugar',\n",
       "       'sweet spreads', 'syrup', 'tea', 'tidbits', 'toilet cleaner',\n",
       "       'tropical fruit', 'turkey', 'vinegar', 'waffles',\n",
       "       'whipped/sour cream', 'whisky', 'white bread', 'white wine',\n",
       "       'whole milk', 'yogurt', 'zwieback'], dtype=object)"
      ]
     },
     "execution_count": 18,
     "metadata": {},
     "output_type": "execute_result"
    }
   ],
   "source": [
    "np.unique(d.itemDescription)"
   ]
  }
 ],
 "metadata": {
  "interpreter": {
   "hash": "e49ad1be67d84e8c05f1355bfb4687abe6018e3beac2c9859fbf3b6d3966e0f5"
  },
  "kernelspec": {
   "display_name": "Python 3.9.7 ('base')",
   "language": "python",
   "name": "python3"
  },
  "language_info": {
   "codemirror_mode": {
    "name": "ipython",
    "version": 3
   },
   "file_extension": ".py",
   "mimetype": "text/x-python",
   "name": "python",
   "nbconvert_exporter": "python",
   "pygments_lexer": "ipython3",
   "version": "3.9.7"
  },
  "orig_nbformat": 4
 },
 "nbformat": 4,
 "nbformat_minor": 2
}
